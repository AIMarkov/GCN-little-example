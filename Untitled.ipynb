{
 "cells": [
  {
   "cell_type": "markdown",
   "metadata": {},
   "source": [
    "这是我根据机器之心 19年 2月20 推送的文章《图卷积网络到底怎么做，这是一份极简的Numpy实现》写的"
   ]
  },
  {
   "cell_type": "markdown",
   "metadata": {},
   "source": [
    "什么是GCN：用于图数据的强大的神经网络架构.即使是随机初始化的两层GCN也可以生成图网络中节点的有用特征表征.如下图"
   ]
  },
  {
   "cell_type": "markdown",
   "metadata": {},
   "source": [
    "![Image of Yaktocat](https://raw.githubusercontent.com/AIMarkov/GCN-little-example/master/image/1.png)"
   ]
  },
  {
   "cell_type": "markdown",
   "metadata": {},
   "source": [
    "图中显示的是通过**直接初始化GCN网络**后生成的图中每个节点的二位表征，可以看见没有经过训练，二维表征也可以保存图中节点的 **相对邻近性**."
   ]
  },
  {
   "cell_type": "markdown",
   "metadata": {},
   "source": [
    "给定图$G=(V,E)$和一个GCN网络，GCN的输入为："
   ]
  },
  {
   "cell_type": "markdown",
   "metadata": {},
   "source": [
    "1.一个输入是维度是$N$x$F^0$的**特征矩阵$X$**,其中$N$是图网络中的节点数而$F^0$是每个节点的输入特征数(也就是每个节点有$F^0$个特征)\n",
    "2.另一个输入是图结构的**矩阵表征**，维度为$N$x$N$，比如图$G$的**邻接矩阵$A$**.(这里Ｎ×Ｎ表示节点个数×节点个数)"
   ]
  },
  {
   "cell_type": "markdown",
   "metadata": {},
   "source": [
    "GCN中的隐层可以写作$$H^i=f(H^{(i-1)},A,W^{i-1})$$,其中$H^0=X$,$f$是一种**传播规则**,$W^{i-1}$是权重。每一个隐层$H^i$都对应一个维度为$N$×$Ｆ^i$的特征矩阵，该矩阵中的每一行都是某个节点的特征表征。"
   ]
  },
  {
   "cell_type": "markdown",
   "metadata": {},
   "source": [
    "（这两句的理解：可以看见$H^0=X$表示第一层隐层，*而$X$就是就是最初输入的特征矩阵*,则第一隐层中每个节点的特征数是$F^0$，所以第一隐层对应的特征矩阵维度就是$N$x$F^0$,那么第二层隐层$H^1＝f(H^0,A,W^0)$对应的就是一个$N$×$F^1$的特征矩阵,每一个节点的特征数是$F^1$,以此类推...。所以可知每一隐层对应的节点数不变，而特征数在改变，这可能是由初始特征来预测目标征，就像普通神经网络输入输出不一样一样）"
   ]
  },
  {
   "cell_type": "markdown",
   "metadata": {},
   "source": [
    "**传播规则的简单示例**:"
   ]
  },
  {
   "cell_type": "markdown",
   "metadata": {},
   "source": [
    "这里给出一个简单的传播规则示例:$$f(H^{(i)},A,W^{i})=\\sigma(AH^iW^i)$$"
   ]
  },
  {
   "cell_type": "markdown",
   "metadata": {},
   "source": [
    "其中，$W^i$表示第$i$层的权重矩阵，$\\sigma$是非线性激活函数（比如ReLU函数）。权重矩阵的维度为$F^i$×$F^{(i+1)}$,即权重矩阵的第二个维度决定了下一层的特征数（解释：$Ａ$是$N$×$N$的$Ｈ$是$N$×$F^i$的所以$AH^i$还是$N$×$F^i$的，所以**权重矩阵的第二个维度决定了下一层的特征数**），这些权重在图中的节点之间共享。"
   ]
  },
  {
   "cell_type": "markdown",
   "metadata": {},
   "source": [
    "**简化**:"
   ]
  },
  {
   "cell_type": "markdown",
   "metadata": {},
   "source": [
    "接下来我们研究最简单层次上的传播规则。令："
   ]
  },
  {
   "cell_type": "markdown",
   "metadata": {},
   "source": [
    "a.$i=1$,(约束条件$f$是作用于输入特征矩阵的函数)"
   ]
  },
  {
   "cell_type": "markdown",
   "metadata": {},
   "source": [
    "b.$\\sigma$为恒等函数"
   ]
  },
  {
   "cell_type": "markdown",
   "metadata": {},
   "source": [
    "c.选择权重(约束条件:$AH^0W^0=AXW^0=AX$)"
   ]
  },
  {
   "cell_type": "markdown",
   "metadata": {},
   "source": [
    "**简单的图示例**"
   ]
  },
  {
   "cell_type": "markdown",
   "metadata": {},
   "source": [
    "我们将使用下面的图作为简单的示例：\n",
    "![Image of Yaktocat](https://raw.githubusercontent.com/AIMarkov/GCN-little-example/master/image/2.png)"
   ]
  },
  {
   "cell_type": "code",
   "execution_count": 64,
   "metadata": {
    "collapsed": true
   },
   "outputs": [],
   "source": [
    "import numpy as np"
   ]
  },
  {
   "cell_type": "markdown",
   "metadata": {},
   "source": [
    "上图的邻接矩阵表示如下(这里邻接点表示有箭头指向时,被指向的是指向的邻节点)："
   ]
  },
  {
   "cell_type": "code",
   "execution_count": 65,
   "metadata": {
    "collapsed": false
   },
   "outputs": [],
   "source": [
    "Ａ=np.matrix([\n",
    "        [0,1,0,0],\n",
    "        [0,0,1,1],\n",
    "        [0,1,0,0],\n",
    "        [1,0,1,0]\n",
    "    ],dtype=float)"
   ]
  },
  {
   "cell_type": "markdown",
   "metadata": {},
   "source": [
    "接下来生成特征矩阵，基于每个节点的索引为其生成两个整数特征(当然这个特征是随便取的没有意义)，这简化后面手动验证矩阵运算的过程"
   ]
  },
  {
   "cell_type": "code",
   "execution_count": 66,
   "metadata": {
    "collapsed": false
   },
   "outputs": [
    {
     "name": "stdout",
     "output_type": "stream",
     "text": [
      "X: [[ 0.  0.]\n",
      " [ 1. -1.]\n",
      " [ 2. -2.]\n",
      " [ 3. -3.]]\n"
     ]
    }
   ],
   "source": [
    "X=np.matrix([[i,-i] for i in range(A.shape[0])],dtype=float)\n",
    "print(\"X:\",X)"
   ]
  },
  {
   "cell_type": "markdown",
   "metadata": {},
   "source": [
    "**应用传播规则**"
   ]
  },
  {
   "cell_type": "markdown",
   "metadata": {},
   "source": [
    "现在我们已经建立了一个图，特征矩阵是$X$,邻接矩阵是$A$,下面我们用传播规则："
   ]
  },
  {
   "cell_type": "code",
   "execution_count": 67,
   "metadata": {
    "collapsed": false
   },
   "outputs": [
    {
     "data": {
      "text/plain": [
       "matrix([[ 1., -1.],\n",
       "        [ 5., -5.],\n",
       "        [ 1., -1.],\n",
       "        [ 2., -2.]])"
      ]
     },
     "execution_count": 67,
     "metadata": {},
     "output_type": "execute_result"
    }
   ],
   "source": [
    "A*X###注意这个地方写的是*号，但实际上是点乘，由于是np.matrix所以*等同于np.dot(A,X），若是类型是np.array则不可以直接*,\n",
    "###对np.array来说*是对应元素相同，所以两个矩阵维度要相同"
   ]
  },
  {
   "cell_type": "markdown",
   "metadata": {},
   "source": [
    "现在看结果可以看见，每一个节点的特征，现在变成了其相邻节点的特征的和。这样的意义：图卷积层将每个节点表示为其相邻节点的聚合．"
   ]
  },
  {
   "cell_type": "markdown",
   "metadata": {},
   "source": [
    "**问题**"
   ]
  },
  {
   "cell_type": "markdown",
   "metadata": {},
   "source": [
    "1.节点的聚合表征不包含它自己的特征,而是相邻节点的聚合.因此只有具有**自环(self-loop)的节点**才会在该聚合中包含自己的特征."
   ]
  },
  {
   "cell_type": "markdown",
   "metadata": {},
   "source": [
    "2.**度大**的节点在其特征表征中将具有较大的值,**度小**的节点将具有较小的值.这可能会导致梯度消失或梯度爆炸,也会影响随机梯度下降算法(随机梯度算法通常被用于训练这类网络,且对每个输入特征的规模(或值的范围)都很敏感)."
   ]
  },
  {
   "cell_type": "markdown",
   "metadata": {},
   "source": [
    "下面想分别对这些问题进行讨论"
   ]
  },
  {
   "cell_type": "markdown",
   "metadata": {},
   "source": [
    "**增加自环**"
   ]
  },
  {
   "cell_type": "markdown",
   "metadata": {},
   "source": [
    "解决第一个问题,我们可以直接为每个节点加上一个自环.具体而言,可以通过在应用转播规则之前将领接矩阵$A$与单位矩阵$I$相加来实现"
   ]
  },
  {
   "cell_type": "code",
   "execution_count": 53,
   "metadata": {
    "collapsed": false
   },
   "outputs": [
    {
     "name": "stdout",
     "output_type": "stream",
     "text": [
      "[[1. 0. 0. 0.]\n",
      " [0. 1. 0. 0.]\n",
      " [0. 0. 1. 0.]\n",
      " [0. 0. 0. 1.]]\n"
     ]
    }
   ],
   "source": [
    "I=np.matrix(np.eye(A.shape[0]))#单位矩阵是方阵,所以只用一个维度\n",
    "print(I)"
   ]
  },
  {
   "cell_type": "code",
   "execution_count": 76,
   "metadata": {
    "collapsed": false
   },
   "outputs": [
    {
     "name": "stdout",
     "output_type": "stream",
     "text": [
      "[[1. 1. 0. 0.]\n",
      " [0. 1. 1. 1.]\n",
      " [0. 1. 1. 0.]\n",
      " [1. 0. 1. 1.]]\n"
     ]
    }
   ],
   "source": [
    "A_hat=A+I\n",
    "print(A_hat)"
   ]
  },
  {
   "cell_type": "code",
   "execution_count": 77,
   "metadata": {
    "collapsed": false
   },
   "outputs": [
    {
     "data": {
      "text/plain": [
       "matrix([[ 1., -1.],\n",
       "        [ 6., -6.],\n",
       "        [ 3., -3.],\n",
       "        [ 5., -5.]])"
      ]
     },
     "execution_count": 77,
     "metadata": {},
     "output_type": "execute_result"
    }
   ],
   "source": [
    "A_hat*X"
   ]
  },
  {
   "cell_type": "markdown",
   "metadata": {},
   "source": [
    "现在,由于每个节点都是自环,所以聚合中就囊括了自己的特征"
   ]
  },
  {
   "cell_type": "markdown",
   "metadata": {},
   "source": [
    "**对特征表征进行归一化处理**"
   ]
  },
  {
   "cell_type": "markdown",
   "metadata": {},
   "source": [
    "通过将邻接矩阵$A$与度矩阵$D$的逆相乘,从而通过节点的度对特征表征进行归一化.因此我们简化后的传播规则如下:$$f(X,A)=D^{-1}AX$$"
   ]
  },
  {
   "cell_type": "markdown",
   "metadata": {},
   "source": [
    "首先计算出节点的度矩阵:"
   ]
  },
  {
   "cell_type": "code",
   "execution_count": 78,
   "metadata": {
    "collapsed": false
   },
   "outputs": [
    {
     "name": "stdout",
     "output_type": "stream",
     "text": [
      "[1. 2. 2. 1.]\n"
     ]
    },
    {
     "data": {
      "text/plain": [
       "matrix([[1., 0., 0., 0.],\n",
       "        [0., 2., 0., 0.],\n",
       "        [0., 0., 2., 0.],\n",
       "        [0., 0., 0., 1.]])"
      ]
     },
     "execution_count": 78,
     "metadata": {},
     "output_type": "execute_result"
    }
   ],
   "source": [
    "D=np.array(np.sum(A,axis=0))[0]#先对邻接矩阵求和,这里A不是自环的\n",
    "print(D)\n",
    "D=np.matrix(np.diag(D))\n",
    "D"
   ]
  },
  {
   "cell_type": "markdown",
   "metadata": {},
   "source": [
    "这里我们对邻接矩阵现在我们进行归一化处理看看有什么变化:"
   ]
  },
  {
   "cell_type": "code",
   "execution_count": 79,
   "metadata": {
    "collapsed": false
   },
   "outputs": [
    {
     "name": "stdout",
     "output_type": "stream",
     "text": [
      "[[0. 1. 0. 0.]\n",
      " [0. 0. 1. 1.]\n",
      " [0. 1. 0. 0.]\n",
      " [1. 0. 1. 0.]]\n"
     ]
    },
    {
     "data": {
      "text/plain": [
       "matrix([[0. , 1. , 0. , 0. ],\n",
       "        [0. , 0. , 0.5, 0.5],\n",
       "        [0. , 0.5, 0. , 0. ],\n",
       "        [1. , 0. , 1. , 0. ]])"
      ]
     },
     "execution_count": 79,
     "metadata": {},
     "output_type": "execute_result"
    }
   ],
   "source": [
    "print(A)\n",
    "D**-1*A"
   ]
  },
  {
   "cell_type": "markdown",
   "metadata": {},
   "source": [
    "可以看看见每一行和都变为1,这是因为邻接矩阵中每一行的权重值都除以该行对应节点的度.这样就得到邻接节点对应的各自权重值."
   ]
  },
  {
   "cell_type": "markdown",
   "metadata": {},
   "source": [
    "接下来我们对变换后的邻接矩阵应用传播规则:"
   ]
  },
  {
   "cell_type": "code",
   "execution_count": 80,
   "metadata": {
    "collapsed": false
   },
   "outputs": [
    {
     "data": {
      "text/plain": [
       "matrix([[ 1. , -1. ],\n",
       "        [ 2.5, -2.5],\n",
       "        [ 0.5, -0.5],\n",
       "        [ 2. , -2. ]])"
      ]
     },
     "execution_count": 80,
     "metadata": {},
     "output_type": "execute_result"
    }
   ],
   "source": [
    "D**-1*A*X"
   ]
  },
  {
   "cell_type": "markdown",
   "metadata": {},
   "source": [
    "现在得到与相邻节点的特征均值对应的节点表征.这是因为变换后邻接矩阵的权重对应于相邻节点特征加权和的权重(这里权重矩阵为单位阵)."
   ]
  },
  {
   "cell_type": "markdown",
   "metadata": {},
   "source": [
    "**整合**"
   ]
  },
  {
   "cell_type": "markdown",
   "metadata": {},
   "source": [
    "现在,我们将把自环和归一化技巧结合起来.此外,我们还讲重新介绍之前为了简化讨论而省略的有关*权重和激活函数的操作*"
   ]
  },
  {
   "cell_type": "markdown",
   "metadata": {},
   "source": [
    "*添加权重*"
   ]
  },
  {
   "cell_type": "markdown",
   "metadata": {},
   "source": [
    "首先要做的是加入权重,这里用$D\\_hat$表示$A\\_hat=A+I$的度矩阵,也就是带自环的邻接矩阵$A\\_hat$的度矩阵."
   ]
  },
  {
   "cell_type": "code",
   "execution_count": 81,
   "metadata": {
    "collapsed": false
   },
   "outputs": [
    {
     "name": "stdout",
     "output_type": "stream",
     "text": [
      "[[ 1 -1]\n",
      " [-1  1]]\n"
     ]
    }
   ],
   "source": [
    "W=np.matrix([\n",
    "        [1,-1],\n",
    "        [-1,1]\n",
    "            ])\n",
    "print(W)"
   ]
  },
  {
   "cell_type": "code",
   "execution_count": 82,
   "metadata": {
    "collapsed": false
   },
   "outputs": [
    {
     "name": "stdout",
     "output_type": "stream",
     "text": [
      "[[2. 0. 0. 0.]\n",
      " [0. 3. 0. 0.]\n",
      " [0. 0. 3. 0.]\n",
      " [0. 0. 0. 2.]]\n"
     ]
    }
   ],
   "source": [
    "D_hat=np.array(np.sum(A_hat,axis=0))[0]\n",
    "D_hat=np.matrix(np.diag(D_hat))\n",
    "print(D_hat)"
   ]
  },
  {
   "cell_type": "code",
   "execution_count": 84,
   "metadata": {
    "collapsed": false
   },
   "outputs": [
    {
     "data": {
      "text/plain": [
       "matrix([[ 1., -1.],\n",
       "        [ 4., -4.],\n",
       "        [ 2., -2.],\n",
       "        [ 5., -5.]])"
      ]
     },
     "execution_count": 84,
     "metadata": {},
     "output_type": "execute_result"
    }
   ],
   "source": [
    "D_hat**-1*A_hat*X*W"
   ]
  },
  {
   "cell_type": "markdown",
   "metadata": {},
   "source": [
    "可以看见每一个节点特征维度减少为了2,如果我们想进一步减少输出特征维度,那么可以直接改变权重矩阵$W$"
   ]
  },
  {
   "cell_type": "code",
   "execution_count": 86,
   "metadata": {
    "collapsed": false
   },
   "outputs": [
    {
     "name": "stdout",
     "output_type": "stream",
     "text": [
      "[[ 1]\n",
      " [-1]]\n"
     ]
    },
    {
     "data": {
      "text/plain": [
       "matrix([[1.],\n",
       "        [4.],\n",
       "        [2.],\n",
       "        [5.]])"
      ]
     },
     "execution_count": 86,
     "metadata": {},
     "output_type": "execute_result"
    }
   ],
   "source": [
    "W=np.matrix([\n",
    "        [1],\n",
    "        [-1]\n",
    "            ])\n",
    "print(W)\n",
    "D_hat**-1*A_hat*X*W"
   ]
  },
  {
   "cell_type": "markdown",
   "metadata": {},
   "source": [
    "可以看见输出特征数进一步降低了."
   ]
  },
  {
   "cell_type": "markdown",
   "metadata": {},
   "source": [
    "添加激活函数"
   ]
  },
  {
   "cell_type": "code",
   "execution_count": 99,
   "metadata": {
    "collapsed": false
   },
   "outputs": [
    {
     "name": "stdout",
     "output_type": "stream",
     "text": [
      "[[1. 0.]\n",
      " [4. 0.]\n",
      " [2. 0.]\n",
      " [5. 0.]]\n"
     ]
    }
   ],
   "source": [
    "W=np.matrix([\n",
    "        [1,-1],\n",
    "        [-1,1]\n",
    "            ])\n",
    "def relu(x):\n",
    "    return np.where(x>0,x,0)#(x+np.ads(x))/2\n",
    "print(relu(D_hat**-1*A_hat*X*W))"
   ]
  },
  {
   "cell_type": "markdown",
   "metadata": {},
   "source": [
    "上面就是一个带有邻接矩阵,输入特征,权重和激活函数的完整隐藏层"
   ]
  },
  {
   "cell_type": "markdown",
   "metadata": {},
   "source": [
    "**在真实场场景下的应用**"
   ]
  },
  {
   "cell_type": "markdown",
   "metadata": {},
   "source": [
    "最后我们将图卷积网络一应用到一个真实的图上."
   ]
  },
  {
   "cell_type": "markdown",
   "metadata": {},
   "source": [
    "*Zachary空手道俱乐部*"
   ]
  },
  {
   "cell_type": "markdown",
   "metadata": {},
   "source": [
    "zachary空手到俱乐部是被广泛应用社交网络,其中*节点*表示空手道俱乐部的*成员*,*边*代表成员之间的相互关系.当年,Zachary在研究空手道俱乐部时候,管理员和教员之间发生冲突,导致俱乐部一分为二.下图显示该网络的图表征,其中的节点标注是根据节点属于俱乐部的哪个部分而得到的,[A]和[I]分别表示属于管理员和教员阵营的节点.\n",
    "![Image of zachary](https://raw.githubusercontent.com/AIMarkov/GCN-little-example/master/image/3.png)"
   ]
  },
  {
   "cell_type": "markdown",
   "metadata": {},
   "source": [
    "*构建GCN*"
   ]
  },
  {
   "cell_type": "markdown",
   "metadata": {},
   "source": [
    "接下来，我们将构建一个图卷积网络。我们并不会真正训练该网络，但是会对其进行简单的随机初始化，从而生成我们在本文开头看到的特征表征。我们将使用 networkx，它有一个可以很容易实现的 Zachary 空手道俱乐部的图表征。然后，我们将计算 A_hat 和 D_hat 矩阵。"
   ]
  },
  {
   "cell_type": "code",
   "execution_count": 119,
   "metadata": {
    "collapsed": false
   },
   "outputs": [
    {
     "name": "stderr",
     "output_type": "stream",
     "text": [
      "/home/chen/anaconda3/lib/python3.5/site-packages/networkx/drawing/nx_pylab.py:611: MatplotlibDeprecationWarning: isinstance(..., numbers.Number)\n",
      "  if cb.is_numlike(alpha):\n"
     ]
    },
    {
     "data": {
      "image/png": "[encoded data removed]",
      "text/plain": [
       "<Figure size 432x288 with 1 Axes>"
      ]
     },
     "metadata": {},
     "output_type": "display_data"
    }
   ],
   "source": [
    "from networkx import to_numpy_matrix\n",
    "from networkx import karate_club_graph\n",
    "import networkx as nx\n",
    "from matplotlib import pyplot as pl\n",
    "zkc = karate_club_graph()\n",
    "nx.draw(zkc,with_labels=True)\n",
    "pl.show()\n",
    "order = sorted(list(zkc.nodes()))\n",
    "A = to_numpy_matrix(zkc, nodelist=order)\n",
    "I = np.eye(zkc.number_of_nodes())\n",
    "A_hat = A + I\n",
    "D_hat = np.array(np.sum(A_hat, axis=0))[0]\n",
    "D_hat = np.matrix(np.diag(D_hat))"
   ]
  },
  {
   "cell_type": "markdown",
   "metadata": {},
   "source": [
    "接下来随机初始化权重"
   ]
  },
  {
   "cell_type": "code",
   "execution_count": 120,
   "metadata": {
    "collapsed": false
   },
   "outputs": [
    {
     "ename": "SyntaxError",
     "evalue": "invalid syntax (<ipython-input-120-d24ef556a3fd>, line 5)",
     "output_type": "error",
     "traceback": [
      "\u001b[0;36m  File \u001b[0;32m\"<ipython-input-120-d24ef556a3fd>\"\u001b[0;36m, line \u001b[0;32m5\u001b[0m\n\u001b[0;31m    loc=0, size=(W_1.shape[1], 2))\u001b[0m\n\u001b[0m       ^\u001b[0m\n\u001b[0;31mSyntaxError\u001b[0m\u001b[0;31m:\u001b[0m invalid syntax\n"
     ]
    }
   ],
   "source": [
    "W_1 = np.random.normal(\n",
    "    loc=0, scale=1, size=(zkc.number_of_nodes(), 4))\n",
    "W_2 = np.random.normal\n",
    "(\n",
    "    loc=0, size=(W_1.shape[1], 2))"
   ]
  },
  {
   "cell_type": "markdown",
   "metadata": {},
   "source": [
    "接着，我们会堆叠 GCN 层。这里，我们只使用单位矩阵作为特征表征，即每个节点被表示为一个 one-hot 编码的类别变量。"
   ]
  },
  {
   "cell_type": "code",
   "execution_count": 117,
   "metadata": {
    "collapsed": true
   },
   "outputs": [],
   "source": [
    "def gcn_layer(A_hat, D_hat, X, W):\n",
    "    return relu(D_hat**-1 * A_hat * X * W)\n",
    "H_1 = gcn_layer(A_hat, D_hat, I, W_1)\n",
    "H_2 = gcn_layer(A_hat, D_hat, H_1, W_2)\n",
    "output = H_2"
   ]
  },
  {
   "cell_type": "markdown",
   "metadata": {},
   "source": [
    "我们进一步抽取出特征表征。"
   ]
  },
  {
   "cell_type": "code",
   "execution_count": 118,
   "metadata": {
    "collapsed": false
   },
   "outputs": [
    {
     "data": {
      "image/png": "[encoded data removed]",
      "text/plain": [
       "<Figure size 432x288 with 1 Axes>"
      ]
     },
     "metadata": {},
     "output_type": "display_data"
    },
    {
     "name": "stdout",
     "output_type": "stream",
     "text": [
      "{0: array([0., 0.]), 1: array([0., 0.]), 2: array([0., 0.]), 3: array([0., 0.]), 4: array([0.07447728, 0.14501921]), 5: array([0.32454065, 0.        ]), 6: array([0.33085339, 0.        ]), 7: array([0., 0.]), 8: array([0., 0.]), 9: array([0.05454103, 0.03460335]), 10: array([0.22368354, 0.05885318]), 11: array([0., 0.]), 12: array([0., 0.]), 13: array([0., 0.]), 14: array([0.06051018, 0.        ]), 15: array([0., 0.]), 16: array([0.53586729, 0.        ]), 17: array([0., 0.]), 18: array([0., 0.]), 19: array([0., 0.]), 20: array([0., 0.]), 21: array([0., 0.]), 22: array([0., 0.]), 23: array([0., 0.]), 24: array([0.        , 0.00475137]), 25: array([0., 0.]), 26: array([0., 0.]), 27: array([0.06480157, 0.        ]), 28: array([0., 0.]), 29: array([0., 0.]), 30: array([0., 0.]), 31: array([0., 0.]), 32: array([0., 0.]), 33: array([0., 0.])}\n"
     ]
    }
   ],
   "source": [
    "feature_representations = {\n",
    "    node: np.array(output)[node] \n",
    "    for node in zkc.nodes()}\n",
    "import matplotlib.pyplot as plt\n",
    "x=[]\n",
    "y=[]\n",
    "for i in range(34):\n",
    "    x.append(feature_representations[i][0])\n",
    "    y.append(feature_representations[i][1])\n",
    "plt.scatter(x,y)\n",
    "plt.show()\n",
    "print(feature_representations)"
   ]
  },
  {
   "cell_type": "markdown",
   "metadata": {},
   "source": [
    "你看，这样的特征表征可以很好地将 Zachary 空手道俱乐部的两个社区划分开来。至此，我们甚至都没有开始训练模型！\n",
    "![Image of 3](https://raw.githubusercontent.com/AIMarkov/GCN-little-example/master/image/4.png)"
   ]
  },
  {
   "cell_type": "markdown",
   "metadata": {},
   "source": [
    "我们应该注意到，在该示例中由于 ReLU 函数的作用，在 x 轴或 y 轴上随机初始化的权重很可能为 0，因此需要反复进行几次随机初始化才能生成上面的图。\n",
    "\n",
    "\n",
    "结语\n",
    "\n",
    "\n",
    "本文中对图卷积网络进行了高屋建瓴的介绍，并说明了 GCN 中每一层节点的特征表征是如何基于其相邻节点的聚合构建的。读者可以从中了解到如何使用 numpy 构建这些网络，以及它们的强大：即使是随机初始化的 GCN 也可以将 Zachary 空手道俱乐部网络中的社区分离开来。"
   ]
  },
  {
   "cell_type": "markdown",
   "metadata": {},
   "source": [
    "[1] Blog post on graph convolutional networks by Thomas Kipf.\n",
    "\n",
    "[2] Paper called Semi-Supervised Classification with Graph Convolutional Networks by Thomas Kipf and Max Welling.\n",
    "\n",
    "\n",
    "原文链接：https://towardsdatascience.com/how-to-do-deep-learning-on-graphs-with-graph-convolutional-networks-7d2250723780"
   ]
  },
  {
   "cell_type": "code",
   "execution_count": null,
   "metadata": {
    "collapsed": true
   },
   "outputs": [],
   "source": []
  }
 ],
 "metadata": {
  "anaconda-cloud": {},
  "kernelspec": {
   "display_name": "Python [conda root]",
   "language": "python",
   "name": "conda-root-py"
  },
  "language_info": {
   "codemirror_mode": {
    "name": "ipython",
    "version": 3
   },
   "file_extension": ".py",
   "mimetype": "text/x-python",
   "name": "python",
   "nbconvert_exporter": "python",
   "pygments_lexer": "ipython3",
   "version": "3.5.2"
  }
 },
 "nbformat": 4,
 "nbformat_minor": 1
}
